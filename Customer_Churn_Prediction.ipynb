{
  "nbformat": 4,
  "nbformat_minor": 0,
  "metadata": {
    "colab": {
      "name": "Customer_Churn_Prediction.ipynb",
      "provenance": [],
      "authorship_tag": "ABX9TyPwuU9YRBV6gvksiivdCTjp",
      "include_colab_link": true
    },
    "kernelspec": {
      "name": "python3",
      "display_name": "Python 3"
    },
    "language_info": {
      "name": "python"
    },
    "accelerator": "GPU"
  },
  "cells": [
    {
      "cell_type": "markdown",
      "metadata": {
        "id": "view-in-github",
        "colab_type": "text"
      },
      "source": [
        "<a href=\"https://colab.research.google.com/github/Eden-Green12/Customer_Churn_Prediction/blob/main/Customer_Churn_Prediction.ipynb\" target=\"_parent\"><img src=\"https://colab.research.google.com/assets/colab-badge.svg\" alt=\"Open In Colab\"/></a>"
      ]
    },
    {
      "cell_type": "markdown",
      "metadata": {
        "id": "j8d6EUAFg7JC"
      },
      "source": [
        "### **Customer churn prediction** \n",
        "Using ANN\n"
      ]
    },
    {
      "cell_type": "code",
      "metadata": {
        "id": "jqmfELq6jlXS"
      },
      "source": [
        "import pandas as pd "
      ],
      "execution_count": 2,
      "outputs": []
    },
    {
      "cell_type": "code",
      "metadata": {
        "colab": {
          "base_uri": "https://localhost:8080/",
          "height": 313
        },
        "id": "Xm9aTuffhBox",
        "outputId": "2cbe9d1a-3712-4047-ac9d-0f98ec153636"
      },
      "source": [
        "df = pd.read_csv(\"/content/telco_churn.csv\")\n",
        "df.head()"
      ],
      "execution_count": 5,
      "outputs": [
        {
          "output_type": "execute_result",
          "data": {
            "text/html": [
              "<div>\n",
              "<style scoped>\n",
              "    .dataframe tbody tr th:only-of-type {\n",
              "        vertical-align: middle;\n",
              "    }\n",
              "\n",
              "    .dataframe tbody tr th {\n",
              "        vertical-align: top;\n",
              "    }\n",
              "\n",
              "    .dataframe thead th {\n",
              "        text-align: right;\n",
              "    }\n",
              "</style>\n",
              "<table border=\"1\" class=\"dataframe\">\n",
              "  <thead>\n",
              "    <tr style=\"text-align: right;\">\n",
              "      <th></th>\n",
              "      <th>customerID</th>\n",
              "      <th>gender</th>\n",
              "      <th>SeniorCitizen</th>\n",
              "      <th>Partner</th>\n",
              "      <th>Dependents</th>\n",
              "      <th>tenure</th>\n",
              "      <th>PhoneService</th>\n",
              "      <th>MultipleLines</th>\n",
              "      <th>InternetService</th>\n",
              "      <th>OnlineSecurity</th>\n",
              "      <th>OnlineBackup</th>\n",
              "      <th>DeviceProtection</th>\n",
              "      <th>TechSupport</th>\n",
              "      <th>StreamingTV</th>\n",
              "      <th>StreamingMovies</th>\n",
              "      <th>Contract</th>\n",
              "      <th>PaperlessBilling</th>\n",
              "      <th>PaymentMethod</th>\n",
              "      <th>MonthlyCharges</th>\n",
              "      <th>TotalCharges</th>\n",
              "      <th>Churn</th>\n",
              "    </tr>\n",
              "  </thead>\n",
              "  <tbody>\n",
              "    <tr>\n",
              "      <th>0</th>\n",
              "      <td>7590-VHVEG</td>\n",
              "      <td>Female</td>\n",
              "      <td>0</td>\n",
              "      <td>Yes</td>\n",
              "      <td>No</td>\n",
              "      <td>1</td>\n",
              "      <td>No</td>\n",
              "      <td>No phone service</td>\n",
              "      <td>DSL</td>\n",
              "      <td>No</td>\n",
              "      <td>Yes</td>\n",
              "      <td>No</td>\n",
              "      <td>No</td>\n",
              "      <td>No</td>\n",
              "      <td>No</td>\n",
              "      <td>Month-to-month</td>\n",
              "      <td>Yes</td>\n",
              "      <td>Electronic check</td>\n",
              "      <td>29.85</td>\n",
              "      <td>29.85</td>\n",
              "      <td>No</td>\n",
              "    </tr>\n",
              "    <tr>\n",
              "      <th>1</th>\n",
              "      <td>5575-GNVDE</td>\n",
              "      <td>Male</td>\n",
              "      <td>0</td>\n",
              "      <td>No</td>\n",
              "      <td>No</td>\n",
              "      <td>34</td>\n",
              "      <td>Yes</td>\n",
              "      <td>No</td>\n",
              "      <td>DSL</td>\n",
              "      <td>Yes</td>\n",
              "      <td>No</td>\n",
              "      <td>Yes</td>\n",
              "      <td>No</td>\n",
              "      <td>No</td>\n",
              "      <td>No</td>\n",
              "      <td>One year</td>\n",
              "      <td>No</td>\n",
              "      <td>Mailed check</td>\n",
              "      <td>56.95</td>\n",
              "      <td>1889.5</td>\n",
              "      <td>No</td>\n",
              "    </tr>\n",
              "    <tr>\n",
              "      <th>2</th>\n",
              "      <td>3668-QPYBK</td>\n",
              "      <td>Male</td>\n",
              "      <td>0</td>\n",
              "      <td>No</td>\n",
              "      <td>No</td>\n",
              "      <td>2</td>\n",
              "      <td>Yes</td>\n",
              "      <td>No</td>\n",
              "      <td>DSL</td>\n",
              "      <td>Yes</td>\n",
              "      <td>Yes</td>\n",
              "      <td>No</td>\n",
              "      <td>No</td>\n",
              "      <td>No</td>\n",
              "      <td>No</td>\n",
              "      <td>Month-to-month</td>\n",
              "      <td>Yes</td>\n",
              "      <td>Mailed check</td>\n",
              "      <td>53.85</td>\n",
              "      <td>108.15</td>\n",
              "      <td>Yes</td>\n",
              "    </tr>\n",
              "    <tr>\n",
              "      <th>3</th>\n",
              "      <td>7795-CFOCW</td>\n",
              "      <td>Male</td>\n",
              "      <td>0</td>\n",
              "      <td>No</td>\n",
              "      <td>No</td>\n",
              "      <td>45</td>\n",
              "      <td>No</td>\n",
              "      <td>No phone service</td>\n",
              "      <td>DSL</td>\n",
              "      <td>Yes</td>\n",
              "      <td>No</td>\n",
              "      <td>Yes</td>\n",
              "      <td>Yes</td>\n",
              "      <td>No</td>\n",
              "      <td>No</td>\n",
              "      <td>One year</td>\n",
              "      <td>No</td>\n",
              "      <td>Bank transfer (automatic)</td>\n",
              "      <td>42.30</td>\n",
              "      <td>1840.75</td>\n",
              "      <td>No</td>\n",
              "    </tr>\n",
              "    <tr>\n",
              "      <th>4</th>\n",
              "      <td>9237-HQITU</td>\n",
              "      <td>Female</td>\n",
              "      <td>0</td>\n",
              "      <td>No</td>\n",
              "      <td>No</td>\n",
              "      <td>2</td>\n",
              "      <td>Yes</td>\n",
              "      <td>No</td>\n",
              "      <td>Fiber optic</td>\n",
              "      <td>No</td>\n",
              "      <td>No</td>\n",
              "      <td>No</td>\n",
              "      <td>No</td>\n",
              "      <td>No</td>\n",
              "      <td>No</td>\n",
              "      <td>Month-to-month</td>\n",
              "      <td>Yes</td>\n",
              "      <td>Electronic check</td>\n",
              "      <td>70.70</td>\n",
              "      <td>151.65</td>\n",
              "      <td>Yes</td>\n",
              "    </tr>\n",
              "  </tbody>\n",
              "</table>\n",
              "</div>"
            ],
            "text/plain": [
              "   customerID  gender  SeniorCitizen  ... MonthlyCharges TotalCharges  Churn\n",
              "0  7590-VHVEG  Female              0  ...          29.85        29.85     No\n",
              "1  5575-GNVDE    Male              0  ...          56.95       1889.5     No\n",
              "2  3668-QPYBK    Male              0  ...          53.85       108.15    Yes\n",
              "3  7795-CFOCW    Male              0  ...          42.30      1840.75     No\n",
              "4  9237-HQITU  Female              0  ...          70.70       151.65    Yes\n",
              "\n",
              "[5 rows x 21 columns]"
            ]
          },
          "metadata": {},
          "execution_count": 5
        }
      ]
    },
    {
      "cell_type": "code",
      "metadata": {
        "colab": {
          "base_uri": "https://localhost:8080/"
        },
        "id": "q81si4WLjihZ",
        "outputId": "0ab6191d-5fb9-4f14-cdea-5d52266f9b0e"
      },
      "source": [
        "df.columns"
      ],
      "execution_count": 6,
      "outputs": [
        {
          "output_type": "execute_result",
          "data": {
            "text/plain": [
              "Index(['customerID', 'gender', 'SeniorCitizen', 'Partner', 'Dependents',\n",
              "       'tenure', 'PhoneService', 'MultipleLines', 'InternetService',\n",
              "       'OnlineSecurity', 'OnlineBackup', 'DeviceProtection', 'TechSupport',\n",
              "       'StreamingTV', 'StreamingMovies', 'Contract', 'PaperlessBilling',\n",
              "       'PaymentMethod', 'MonthlyCharges', 'TotalCharges', 'Churn'],\n",
              "      dtype='object')"
            ]
          },
          "metadata": {},
          "execution_count": 6
        }
      ]
    },
    {
      "cell_type": "code",
      "metadata": {
        "id": "7e_iq_YSjvtp"
      },
      "source": [
        "df.drop('customerID',axis=\"columns\",inplace=True)"
      ],
      "execution_count": 7,
      "outputs": []
    },
    {
      "cell_type": "code",
      "metadata": {
        "colab": {
          "base_uri": "https://localhost:8080/"
        },
        "id": "X_06WQ4kkHkW",
        "outputId": "a0760f28-c6bc-4190-9eac-bc20e6105f8a"
      },
      "source": [
        "df.dtypes"
      ],
      "execution_count": 8,
      "outputs": [
        {
          "output_type": "execute_result",
          "data": {
            "text/plain": [
              "gender               object\n",
              "SeniorCitizen         int64\n",
              "Partner              object\n",
              "Dependents           object\n",
              "tenure                int64\n",
              "PhoneService         object\n",
              "MultipleLines        object\n",
              "InternetService      object\n",
              "OnlineSecurity       object\n",
              "OnlineBackup         object\n",
              "DeviceProtection     object\n",
              "TechSupport          object\n",
              "StreamingTV          object\n",
              "StreamingMovies      object\n",
              "Contract             object\n",
              "PaperlessBilling     object\n",
              "PaymentMethod        object\n",
              "MonthlyCharges      float64\n",
              "TotalCharges         object\n",
              "Churn                object\n",
              "dtype: object"
            ]
          },
          "metadata": {},
          "execution_count": 8
        }
      ]
    },
    {
      "cell_type": "code",
      "metadata": {
        "colab": {
          "base_uri": "https://localhost:8080/"
        },
        "id": "a4WVQ9GnkHgz",
        "outputId": "ce3db759-17a4-4a0d-d856-fefa29414e60"
      },
      "source": [
        "df.TotalCharges.values"
      ],
      "execution_count": 9,
      "outputs": [
        {
          "output_type": "execute_result",
          "data": {
            "text/plain": [
              "array(['29.85', '1889.5', '108.15', ..., '346.45', '306.6', '6844.5'],\n",
              "      dtype=object)"
            ]
          },
          "metadata": {},
          "execution_count": 9
        }
      ]
    },
    {
      "cell_type": "code",
      "metadata": {
        "colab": {
          "base_uri": "https://localhost:8080/",
          "height": 571
        },
        "id": "LT227W9OkHdD",
        "outputId": "295530a5-bdf3-4ad7-a5b7-c36834286cfe"
      },
      "source": [
        "df[pd.to_numeric(df.TotalCharges,errors='coerce').isnull()]"
      ],
      "execution_count": 10,
      "outputs": [
        {
          "output_type": "execute_result",
          "data": {
            "text/html": [
              "<div>\n",
              "<style scoped>\n",
              "    .dataframe tbody tr th:only-of-type {\n",
              "        vertical-align: middle;\n",
              "    }\n",
              "\n",
              "    .dataframe tbody tr th {\n",
              "        vertical-align: top;\n",
              "    }\n",
              "\n",
              "    .dataframe thead th {\n",
              "        text-align: right;\n",
              "    }\n",
              "</style>\n",
              "<table border=\"1\" class=\"dataframe\">\n",
              "  <thead>\n",
              "    <tr style=\"text-align: right;\">\n",
              "      <th></th>\n",
              "      <th>gender</th>\n",
              "      <th>SeniorCitizen</th>\n",
              "      <th>Partner</th>\n",
              "      <th>Dependents</th>\n",
              "      <th>tenure</th>\n",
              "      <th>PhoneService</th>\n",
              "      <th>MultipleLines</th>\n",
              "      <th>InternetService</th>\n",
              "      <th>OnlineSecurity</th>\n",
              "      <th>OnlineBackup</th>\n",
              "      <th>DeviceProtection</th>\n",
              "      <th>TechSupport</th>\n",
              "      <th>StreamingTV</th>\n",
              "      <th>StreamingMovies</th>\n",
              "      <th>Contract</th>\n",
              "      <th>PaperlessBilling</th>\n",
              "      <th>PaymentMethod</th>\n",
              "      <th>MonthlyCharges</th>\n",
              "      <th>TotalCharges</th>\n",
              "      <th>Churn</th>\n",
              "    </tr>\n",
              "  </thead>\n",
              "  <tbody>\n",
              "    <tr>\n",
              "      <th>488</th>\n",
              "      <td>Female</td>\n",
              "      <td>0</td>\n",
              "      <td>Yes</td>\n",
              "      <td>Yes</td>\n",
              "      <td>0</td>\n",
              "      <td>No</td>\n",
              "      <td>No phone service</td>\n",
              "      <td>DSL</td>\n",
              "      <td>Yes</td>\n",
              "      <td>No</td>\n",
              "      <td>Yes</td>\n",
              "      <td>Yes</td>\n",
              "      <td>Yes</td>\n",
              "      <td>No</td>\n",
              "      <td>Two year</td>\n",
              "      <td>Yes</td>\n",
              "      <td>Bank transfer (automatic)</td>\n",
              "      <td>52.55</td>\n",
              "      <td></td>\n",
              "      <td>No</td>\n",
              "    </tr>\n",
              "    <tr>\n",
              "      <th>753</th>\n",
              "      <td>Male</td>\n",
              "      <td>0</td>\n",
              "      <td>No</td>\n",
              "      <td>Yes</td>\n",
              "      <td>0</td>\n",
              "      <td>Yes</td>\n",
              "      <td>No</td>\n",
              "      <td>No</td>\n",
              "      <td>No internet service</td>\n",
              "      <td>No internet service</td>\n",
              "      <td>No internet service</td>\n",
              "      <td>No internet service</td>\n",
              "      <td>No internet service</td>\n",
              "      <td>No internet service</td>\n",
              "      <td>Two year</td>\n",
              "      <td>No</td>\n",
              "      <td>Mailed check</td>\n",
              "      <td>20.25</td>\n",
              "      <td></td>\n",
              "      <td>No</td>\n",
              "    </tr>\n",
              "    <tr>\n",
              "      <th>936</th>\n",
              "      <td>Female</td>\n",
              "      <td>0</td>\n",
              "      <td>Yes</td>\n",
              "      <td>Yes</td>\n",
              "      <td>0</td>\n",
              "      <td>Yes</td>\n",
              "      <td>No</td>\n",
              "      <td>DSL</td>\n",
              "      <td>Yes</td>\n",
              "      <td>Yes</td>\n",
              "      <td>Yes</td>\n",
              "      <td>No</td>\n",
              "      <td>Yes</td>\n",
              "      <td>Yes</td>\n",
              "      <td>Two year</td>\n",
              "      <td>No</td>\n",
              "      <td>Mailed check</td>\n",
              "      <td>80.85</td>\n",
              "      <td></td>\n",
              "      <td>No</td>\n",
              "    </tr>\n",
              "    <tr>\n",
              "      <th>1082</th>\n",
              "      <td>Male</td>\n",
              "      <td>0</td>\n",
              "      <td>Yes</td>\n",
              "      <td>Yes</td>\n",
              "      <td>0</td>\n",
              "      <td>Yes</td>\n",
              "      <td>Yes</td>\n",
              "      <td>No</td>\n",
              "      <td>No internet service</td>\n",
              "      <td>No internet service</td>\n",
              "      <td>No internet service</td>\n",
              "      <td>No internet service</td>\n",
              "      <td>No internet service</td>\n",
              "      <td>No internet service</td>\n",
              "      <td>Two year</td>\n",
              "      <td>No</td>\n",
              "      <td>Mailed check</td>\n",
              "      <td>25.75</td>\n",
              "      <td></td>\n",
              "      <td>No</td>\n",
              "    </tr>\n",
              "    <tr>\n",
              "      <th>1340</th>\n",
              "      <td>Female</td>\n",
              "      <td>0</td>\n",
              "      <td>Yes</td>\n",
              "      <td>Yes</td>\n",
              "      <td>0</td>\n",
              "      <td>No</td>\n",
              "      <td>No phone service</td>\n",
              "      <td>DSL</td>\n",
              "      <td>Yes</td>\n",
              "      <td>Yes</td>\n",
              "      <td>Yes</td>\n",
              "      <td>Yes</td>\n",
              "      <td>Yes</td>\n",
              "      <td>No</td>\n",
              "      <td>Two year</td>\n",
              "      <td>No</td>\n",
              "      <td>Credit card (automatic)</td>\n",
              "      <td>56.05</td>\n",
              "      <td></td>\n",
              "      <td>No</td>\n",
              "    </tr>\n",
              "    <tr>\n",
              "      <th>3331</th>\n",
              "      <td>Male</td>\n",
              "      <td>0</td>\n",
              "      <td>Yes</td>\n",
              "      <td>Yes</td>\n",
              "      <td>0</td>\n",
              "      <td>Yes</td>\n",
              "      <td>No</td>\n",
              "      <td>No</td>\n",
              "      <td>No internet service</td>\n",
              "      <td>No internet service</td>\n",
              "      <td>No internet service</td>\n",
              "      <td>No internet service</td>\n",
              "      <td>No internet service</td>\n",
              "      <td>No internet service</td>\n",
              "      <td>Two year</td>\n",
              "      <td>No</td>\n",
              "      <td>Mailed check</td>\n",
              "      <td>19.85</td>\n",
              "      <td></td>\n",
              "      <td>No</td>\n",
              "    </tr>\n",
              "    <tr>\n",
              "      <th>3826</th>\n",
              "      <td>Male</td>\n",
              "      <td>0</td>\n",
              "      <td>Yes</td>\n",
              "      <td>Yes</td>\n",
              "      <td>0</td>\n",
              "      <td>Yes</td>\n",
              "      <td>Yes</td>\n",
              "      <td>No</td>\n",
              "      <td>No internet service</td>\n",
              "      <td>No internet service</td>\n",
              "      <td>No internet service</td>\n",
              "      <td>No internet service</td>\n",
              "      <td>No internet service</td>\n",
              "      <td>No internet service</td>\n",
              "      <td>Two year</td>\n",
              "      <td>No</td>\n",
              "      <td>Mailed check</td>\n",
              "      <td>25.35</td>\n",
              "      <td></td>\n",
              "      <td>No</td>\n",
              "    </tr>\n",
              "    <tr>\n",
              "      <th>4380</th>\n",
              "      <td>Female</td>\n",
              "      <td>0</td>\n",
              "      <td>Yes</td>\n",
              "      <td>Yes</td>\n",
              "      <td>0</td>\n",
              "      <td>Yes</td>\n",
              "      <td>No</td>\n",
              "      <td>No</td>\n",
              "      <td>No internet service</td>\n",
              "      <td>No internet service</td>\n",
              "      <td>No internet service</td>\n",
              "      <td>No internet service</td>\n",
              "      <td>No internet service</td>\n",
              "      <td>No internet service</td>\n",
              "      <td>Two year</td>\n",
              "      <td>No</td>\n",
              "      <td>Mailed check</td>\n",
              "      <td>20.00</td>\n",
              "      <td></td>\n",
              "      <td>No</td>\n",
              "    </tr>\n",
              "    <tr>\n",
              "      <th>5218</th>\n",
              "      <td>Male</td>\n",
              "      <td>0</td>\n",
              "      <td>Yes</td>\n",
              "      <td>Yes</td>\n",
              "      <td>0</td>\n",
              "      <td>Yes</td>\n",
              "      <td>No</td>\n",
              "      <td>No</td>\n",
              "      <td>No internet service</td>\n",
              "      <td>No internet service</td>\n",
              "      <td>No internet service</td>\n",
              "      <td>No internet service</td>\n",
              "      <td>No internet service</td>\n",
              "      <td>No internet service</td>\n",
              "      <td>One year</td>\n",
              "      <td>Yes</td>\n",
              "      <td>Mailed check</td>\n",
              "      <td>19.70</td>\n",
              "      <td></td>\n",
              "      <td>No</td>\n",
              "    </tr>\n",
              "    <tr>\n",
              "      <th>6670</th>\n",
              "      <td>Female</td>\n",
              "      <td>0</td>\n",
              "      <td>Yes</td>\n",
              "      <td>Yes</td>\n",
              "      <td>0</td>\n",
              "      <td>Yes</td>\n",
              "      <td>Yes</td>\n",
              "      <td>DSL</td>\n",
              "      <td>No</td>\n",
              "      <td>Yes</td>\n",
              "      <td>Yes</td>\n",
              "      <td>Yes</td>\n",
              "      <td>Yes</td>\n",
              "      <td>No</td>\n",
              "      <td>Two year</td>\n",
              "      <td>No</td>\n",
              "      <td>Mailed check</td>\n",
              "      <td>73.35</td>\n",
              "      <td></td>\n",
              "      <td>No</td>\n",
              "    </tr>\n",
              "    <tr>\n",
              "      <th>6754</th>\n",
              "      <td>Male</td>\n",
              "      <td>0</td>\n",
              "      <td>No</td>\n",
              "      <td>Yes</td>\n",
              "      <td>0</td>\n",
              "      <td>Yes</td>\n",
              "      <td>Yes</td>\n",
              "      <td>DSL</td>\n",
              "      <td>Yes</td>\n",
              "      <td>Yes</td>\n",
              "      <td>No</td>\n",
              "      <td>Yes</td>\n",
              "      <td>No</td>\n",
              "      <td>No</td>\n",
              "      <td>Two year</td>\n",
              "      <td>Yes</td>\n",
              "      <td>Bank transfer (automatic)</td>\n",
              "      <td>61.90</td>\n",
              "      <td></td>\n",
              "      <td>No</td>\n",
              "    </tr>\n",
              "  </tbody>\n",
              "</table>\n",
              "</div>"
            ],
            "text/plain": [
              "      gender  SeniorCitizen Partner  ... MonthlyCharges  TotalCharges Churn\n",
              "488   Female              0     Yes  ...          52.55                  No\n",
              "753     Male              0      No  ...          20.25                  No\n",
              "936   Female              0     Yes  ...          80.85                  No\n",
              "1082    Male              0     Yes  ...          25.75                  No\n",
              "1340  Female              0     Yes  ...          56.05                  No\n",
              "3331    Male              0     Yes  ...          19.85                  No\n",
              "3826    Male              0     Yes  ...          25.35                  No\n",
              "4380  Female              0     Yes  ...          20.00                  No\n",
              "5218    Male              0     Yes  ...          19.70                  No\n",
              "6670  Female              0     Yes  ...          73.35                  No\n",
              "6754    Male              0      No  ...          61.90                  No\n",
              "\n",
              "[11 rows x 20 columns]"
            ]
          },
          "metadata": {},
          "execution_count": 10
        }
      ]
    },
    {
      "cell_type": "code",
      "metadata": {
        "colab": {
          "base_uri": "https://localhost:8080/"
        },
        "id": "EuIyqOJAkHZJ",
        "outputId": "f6f27946-10dd-459c-8b25-86499ef11a03"
      },
      "source": [
        "df1 = df[df.TotalCharges!= \" \"]\n",
        "df1.shape"
      ],
      "execution_count": 11,
      "outputs": [
        {
          "output_type": "execute_result",
          "data": {
            "text/plain": [
              "(7032, 20)"
            ]
          },
          "metadata": {},
          "execution_count": 11
        }
      ]
    },
    {
      "cell_type": "code",
      "metadata": {
        "id": "_6eBQIDQkHVl",
        "colab": {
          "base_uri": "https://localhost:8080/"
        },
        "outputId": "e834df76-7669-4212-a836-1addf756216f"
      },
      "source": [
        "df1.TotalCharges = pd.to_numeric(df1.TotalCharges)"
      ],
      "execution_count": 12,
      "outputs": [
        {
          "output_type": "stream",
          "name": "stderr",
          "text": [
            "/usr/local/lib/python3.7/dist-packages/pandas/core/generic.py:5170: SettingWithCopyWarning: \n",
            "A value is trying to be set on a copy of a slice from a DataFrame.\n",
            "Try using .loc[row_indexer,col_indexer] = value instead\n",
            "\n",
            "See the caveats in the documentation: https://pandas.pydata.org/pandas-docs/stable/user_guide/indexing.html#returning-a-view-versus-a-copy\n",
            "  self[name] = value\n"
          ]
        }
      ]
    },
    {
      "cell_type": "code",
      "metadata": {
        "id": "UI4doEQRnpv3"
      },
      "source": [
        "import matplotlib.pyplot as plt "
      ],
      "execution_count": 13,
      "outputs": []
    },
    {
      "cell_type": "code",
      "metadata": {
        "colab": {
          "base_uri": "https://localhost:8080/",
          "height": 367
        },
        "id": "HU4OroPqkHST",
        "outputId": "bd216d7e-9dfe-4aac-be62-9ae6691be0c5"
      },
      "source": [
        "tenure_churn_no = df1[df1.Churn == 'No'].tenure\n",
        "tenure_churn_yes = df1[df1.Churn == 'Yes'].tenure\n",
        "\n",
        "plt.xlabel('tenure')\n",
        "plt.ylabel('No of customers')\n",
        "plt.title('Customer Churn Prediction Visualization')\n",
        "\n",
        "plt.hist([tenure_churn_no,tenure_churn_yes],color=['red','green'],label=['Churn=No','Churn =Yes'])\n",
        "plt.legend()"
      ],
      "execution_count": 14,
      "outputs": [
        {
          "output_type": "stream",
          "name": "stderr",
          "text": [
            "/usr/local/lib/python3.7/dist-packages/numpy/core/_asarray.py:83: VisibleDeprecationWarning: Creating an ndarray from ragged nested sequences (which is a list-or-tuple of lists-or-tuples-or ndarrays with different lengths or shapes) is deprecated. If you meant to do this, you must specify 'dtype=object' when creating the ndarray\n",
            "  return array(a, dtype, copy=False, order=order)\n"
          ]
        },
        {
          "output_type": "execute_result",
          "data": {
            "text/plain": [
              "<matplotlib.legend.Legend at 0x7fc8218b1e10>"
            ]
          },
          "metadata": {},
          "execution_count": 14
        },
        {
          "output_type": "display_data",
          "data": {
            "image/png": "[encoded data removed]",
            "text/plain": [
              "<Figure size 432x288 with 1 Axes>"
            ]
          },
          "metadata": {
            "needs_background": "light"
          }
        }
      ]
    },
    {
      "cell_type": "code",
      "metadata": {
        "colab": {
          "base_uri": "https://localhost:8080/",
          "height": 367
        },
        "id": "0GcupUuskHPV",
        "outputId": "d1bfb9ca-313b-4b12-90bb-3276025ead5f"
      },
      "source": [
        "tenure_churn_no = df1[df1.Churn == 'No'].MonthlyCharges\n",
        "tenure_churn_yes = df1[df1.Churn == 'Yes'].MonthlyCharges\n",
        "\n",
        "plt.xlabel('Monthly Charges')\n",
        "plt.ylabel('No of customers')\n",
        "plt.title('Customer Churn Prediction Visualization')\n",
        "\n",
        "plt.hist([tenure_churn_no,tenure_churn_yes],color=['red','green'],label=['Churn=No','Churn =Yes'])\n",
        "plt.legend()"
      ],
      "execution_count": 15,
      "outputs": [
        {
          "output_type": "stream",
          "name": "stderr",
          "text": [
            "/usr/local/lib/python3.7/dist-packages/numpy/core/_asarray.py:83: VisibleDeprecationWarning: Creating an ndarray from ragged nested sequences (which is a list-or-tuple of lists-or-tuples-or ndarrays with different lengths or shapes) is deprecated. If you meant to do this, you must specify 'dtype=object' when creating the ndarray\n",
            "  return array(a, dtype, copy=False, order=order)\n"
          ]
        },
        {
          "output_type": "execute_result",
          "data": {
            "text/plain": [
              "<matplotlib.legend.Legend at 0x7fc8212b6890>"
            ]
          },
          "metadata": {},
          "execution_count": 15
        },
        {
          "output_type": "display_data",
          "data": {
            "image/png": "[encoded data removed]",
            "text/plain": [
              "<Figure size 432x288 with 1 Axes>"
            ]
          },
          "metadata": {
            "needs_background": "light"
          }
        }
      ]
    },
    {
      "cell_type": "code",
      "metadata": {
        "id": "jSrC6qnIkHMA"
      },
      "source": [
        "def unique_values():\n",
        "  for column in df1:\n",
        "   if df1[column].dtypes == 'object':\n",
        "     print(column, \" = \" ,df1[column].unique())"
      ],
      "execution_count": 16,
      "outputs": []
    },
    {
      "cell_type": "code",
      "metadata": {
        "colab": {
          "base_uri": "https://localhost:8080/",
          "height": 367
        },
        "id": "hAn_KIe9kHIT",
        "outputId": "40aa530e-d341-4736-cf34-ad420b579a7d"
      },
      "source": [
        "tenure_churn_no = df1[df1.Churn == 'No'].Contract\n",
        "tenure_churn_yes = df1[df1.Churn == 'Yes'].Contract\n",
        "\n",
        "plt.xlabel('Contract')\n",
        "plt.ylabel('No of customers')\n",
        "plt.title('Customer Churn Prediction Visualization')\n",
        "\n",
        "plt.hist([tenure_churn_no,tenure_churn_yes],color=['red','green'],label=['Churn=No','Churn =Yes'])\n",
        "plt.legend()"
      ],
      "execution_count": 17,
      "outputs": [
        {
          "output_type": "stream",
          "name": "stderr",
          "text": [
            "/usr/local/lib/python3.7/dist-packages/numpy/core/_asarray.py:83: VisibleDeprecationWarning: Creating an ndarray from ragged nested sequences (which is a list-or-tuple of lists-or-tuples-or ndarrays with different lengths or shapes) is deprecated. If you meant to do this, you must specify 'dtype=object' when creating the ndarray\n",
            "  return array(a, dtype, copy=False, order=order)\n"
          ]
        },
        {
          "output_type": "execute_result",
          "data": {
            "text/plain": [
              "<matplotlib.legend.Legend at 0x7fc8211f8c50>"
            ]
          },
          "metadata": {},
          "execution_count": 17
        },
        {
          "output_type": "display_data",
          "data": {
            "image/png": "[encoded data removed]",
            "text/plain": [
              "<Figure size 432x288 with 1 Axes>"
            ]
          },
          "metadata": {
            "needs_background": "light"
          }
        }
      ]
    },
    {
      "cell_type": "code",
      "metadata": {
        "id": "6OsJAoUAV7WG",
        "colab": {
          "base_uri": "https://localhost:8080/"
        },
        "outputId": "728d673c-2c07-499b-c980-657612eb21ba"
      },
      "source": [
        "df1.replace('No internet service','No', inplace = True)\n",
        "df1.replace('No phone service','No', inplace = True)\n",
        "unique_values()"
      ],
      "execution_count": 18,
      "outputs": [
        {
          "output_type": "stream",
          "name": "stdout",
          "text": [
            "gender  =  ['Female' 'Male']\n",
            "Partner  =  ['Yes' 'No']\n",
            "Dependents  =  ['No' 'Yes']\n",
            "PhoneService  =  ['No' 'Yes']\n",
            "MultipleLines  =  ['No' 'Yes']\n",
            "InternetService  =  ['DSL' 'Fiber optic' 'No']\n",
            "OnlineSecurity  =  ['No' 'Yes']\n",
            "OnlineBackup  =  ['Yes' 'No']\n",
            "DeviceProtection  =  ['No' 'Yes']\n",
            "TechSupport  =  ['No' 'Yes']\n",
            "StreamingTV  =  ['No' 'Yes']\n",
            "StreamingMovies  =  ['No' 'Yes']\n",
            "Contract  =  ['Month-to-month' 'One year' 'Two year']\n",
            "PaperlessBilling  =  ['Yes' 'No']\n",
            "PaymentMethod  =  ['Electronic check' 'Mailed check' 'Bank transfer (automatic)'\n",
            " 'Credit card (automatic)']\n",
            "Churn  =  ['No' 'Yes']\n"
          ]
        },
        {
          "output_type": "stream",
          "name": "stderr",
          "text": [
            "/usr/local/lib/python3.7/dist-packages/pandas/core/frame.py:4389: SettingWithCopyWarning: \n",
            "A value is trying to be set on a copy of a slice from a DataFrame\n",
            "\n",
            "See the caveats in the documentation: https://pandas.pydata.org/pandas-docs/stable/user_guide/indexing.html#returning-a-view-versus-a-copy\n",
            "  method=method,\n"
          ]
        }
      ]
    },
    {
      "cell_type": "code",
      "metadata": {
        "id": "VCTUlUSCV7Sb",
        "colab": {
          "base_uri": "https://localhost:8080/"
        },
        "outputId": "901b8b53-ae74-4c1a-f06e-d7e69647afe1"
      },
      "source": [
        "df1.replace({'Yes':1,'No':0},inplace = True)"
      ],
      "execution_count": 19,
      "outputs": [
        {
          "output_type": "stream",
          "name": "stderr",
          "text": [
            "/usr/local/lib/python3.7/dist-packages/pandas/core/frame.py:4389: SettingWithCopyWarning: \n",
            "A value is trying to be set on a copy of a slice from a DataFrame\n",
            "\n",
            "See the caveats in the documentation: https://pandas.pydata.org/pandas-docs/stable/user_guide/indexing.html#returning-a-view-versus-a-copy\n",
            "  method=method,\n"
          ]
        }
      ]
    },
    {
      "cell_type": "code",
      "metadata": {
        "colab": {
          "base_uri": "https://localhost:8080/"
        },
        "id": "HWaQPsxCZHty",
        "outputId": "efe2ab97-2c9e-42ae-9e12-3977a2c7a9d3"
      },
      "source": [
        "df1['gender'].replace({'Male':0,'Female':1},inplace = True)"
      ],
      "execution_count": 20,
      "outputs": [
        {
          "output_type": "stream",
          "name": "stderr",
          "text": [
            "/usr/local/lib/python3.7/dist-packages/pandas/core/series.py:4582: SettingWithCopyWarning: \n",
            "A value is trying to be set on a copy of a slice from a DataFrame\n",
            "\n",
            "See the caveats in the documentation: https://pandas.pydata.org/pandas-docs/stable/user_guide/indexing.html#returning-a-view-versus-a-copy\n",
            "  method=method,\n"
          ]
        }
      ]
    },
    {
      "cell_type": "code",
      "metadata": {
        "id": "4ybxX4q7V7PL",
        "colab": {
          "base_uri": "https://localhost:8080/"
        },
        "outputId": "8cb6fac5-2171-41ce-df64-51a7c5f8ecd1"
      },
      "source": [
        "unique_values()"
      ],
      "execution_count": 21,
      "outputs": [
        {
          "output_type": "stream",
          "name": "stdout",
          "text": [
            "InternetService  =  ['DSL' 'Fiber optic' 0]\n",
            "Contract  =  ['Month-to-month' 'One year' 'Two year']\n",
            "PaymentMethod  =  ['Electronic check' 'Mailed check' 'Bank transfer (automatic)'\n",
            " 'Credit card (automatic)']\n"
          ]
        }
      ]
    },
    {
      "cell_type": "code",
      "metadata": {
        "id": "eLHTD-ayV7K5",
        "colab": {
          "base_uri": "https://localhost:8080/"
        },
        "outputId": "5a487d3a-f20e-4c7b-f1f1-07f4dce886e4"
      },
      "source": [
        "#one hot encoding \n",
        "df2 = pd.get_dummies(data=df1,columns=['InternetService','Contract','PaymentMethod'])\n",
        "df2.columns"
      ],
      "execution_count": 22,
      "outputs": [
        {
          "output_type": "execute_result",
          "data": {
            "text/plain": [
              "Index(['gender', 'SeniorCitizen', 'Partner', 'Dependents', 'tenure',\n",
              "       'PhoneService', 'MultipleLines', 'OnlineSecurity', 'OnlineBackup',\n",
              "       'DeviceProtection', 'TechSupport', 'StreamingTV', 'StreamingMovies',\n",
              "       'PaperlessBilling', 'MonthlyCharges', 'TotalCharges', 'Churn',\n",
              "       'InternetService_0', 'InternetService_DSL',\n",
              "       'InternetService_Fiber optic', 'Contract_Month-to-month',\n",
              "       'Contract_One year', 'Contract_Two year',\n",
              "       'PaymentMethod_Bank transfer (automatic)',\n",
              "       'PaymentMethod_Credit card (automatic)',\n",
              "       'PaymentMethod_Electronic check', 'PaymentMethod_Mailed check'],\n",
              "      dtype='object')"
            ]
          },
          "metadata": {},
          "execution_count": 22
        }
      ]
    },
    {
      "cell_type": "code",
      "metadata": {
        "id": "2TB4RGd1aFua"
      },
      "source": [
        "cols_to_scale = ['tenure','MonthlyCharges','TotalCharges']\n",
        "from sklearn.preprocessing import MinMaxScaler\n",
        "scaler = MinMaxScaler()\n",
        "\n",
        "df2[cols_to_scale] = scaler.fit_transform(df2[cols_to_scale])"
      ],
      "execution_count": 23,
      "outputs": []
    },
    {
      "cell_type": "code",
      "metadata": {
        "id": "h51ESPuTbMWu"
      },
      "source": [
        "X = df2.drop(\"Churn\",axis='columns')\n",
        "y = df2[\"Churn\"]"
      ],
      "execution_count": 24,
      "outputs": []
    },
    {
      "cell_type": "code",
      "metadata": {
        "colab": {
          "base_uri": "https://localhost:8080/"
        },
        "id": "7dieephic5on",
        "outputId": "4fde5ed4-c066-4031-cb7c-00c39fbcf31e"
      },
      "source": [
        "X.columns"
      ],
      "execution_count": 25,
      "outputs": [
        {
          "output_type": "execute_result",
          "data": {
            "text/plain": [
              "Index(['gender', 'SeniorCitizen', 'Partner', 'Dependents', 'tenure',\n",
              "       'PhoneService', 'MultipleLines', 'OnlineSecurity', 'OnlineBackup',\n",
              "       'DeviceProtection', 'TechSupport', 'StreamingTV', 'StreamingMovies',\n",
              "       'PaperlessBilling', 'MonthlyCharges', 'TotalCharges',\n",
              "       'InternetService_0', 'InternetService_DSL',\n",
              "       'InternetService_Fiber optic', 'Contract_Month-to-month',\n",
              "       'Contract_One year', 'Contract_Two year',\n",
              "       'PaymentMethod_Bank transfer (automatic)',\n",
              "       'PaymentMethod_Credit card (automatic)',\n",
              "       'PaymentMethod_Electronic check', 'PaymentMethod_Mailed check'],\n",
              "      dtype='object')"
            ]
          },
          "metadata": {},
          "execution_count": 25
        }
      ]
    },
    {
      "cell_type": "code",
      "metadata": {
        "colab": {
          "base_uri": "https://localhost:8080/"
        },
        "id": "pHWOXAHVdPhd",
        "outputId": "fed33baa-ee2b-4822-b3ce-42e4a1b9af48"
      },
      "source": [
        "y"
      ],
      "execution_count": 26,
      "outputs": [
        {
          "output_type": "execute_result",
          "data": {
            "text/plain": [
              "0       0\n",
              "1       0\n",
              "2       1\n",
              "3       0\n",
              "4       1\n",
              "       ..\n",
              "7038    0\n",
              "7039    0\n",
              "7040    0\n",
              "7041    1\n",
              "7042    0\n",
              "Name: Churn, Length: 7032, dtype: int64"
            ]
          },
          "metadata": {},
          "execution_count": 26
        }
      ]
    },
    {
      "cell_type": "code",
      "metadata": {
        "id": "e24ja-8YdRCY"
      },
      "source": [
        "from sklearn.model_selection import train_test_split\n",
        "X_train , X_test ,y_train, y_test = train_test_split(X,y,test_size=0.2,random_state = 5)"
      ],
      "execution_count": 27,
      "outputs": []
    },
    {
      "cell_type": "code",
      "metadata": {
        "colab": {
          "base_uri": "https://localhost:8080/"
        },
        "id": "fjlopEUSdwFW",
        "outputId": "344f8b8a-4d3e-4b24-d00d-f00cce2674b2"
      },
      "source": [
        "X_train.shape\n"
      ],
      "execution_count": 28,
      "outputs": [
        {
          "output_type": "execute_result",
          "data": {
            "text/plain": [
              "(5625, 26)"
            ]
          },
          "metadata": {},
          "execution_count": 28
        }
      ]
    },
    {
      "cell_type": "code",
      "metadata": {
        "colab": {
          "base_uri": "https://localhost:8080/"
        },
        "id": "itP7Mg3th_db",
        "outputId": "b9fb76ec-3c12-4d5a-f664-74c470348f01"
      },
      "source": [
        "y_train.shape"
      ],
      "execution_count": 29,
      "outputs": [
        {
          "output_type": "execute_result",
          "data": {
            "text/plain": [
              "(5625,)"
            ]
          },
          "metadata": {},
          "execution_count": 29
        }
      ]
    },
    {
      "cell_type": "code",
      "metadata": {
        "colab": {
          "base_uri": "https://localhost:8080/"
        },
        "id": "_rCrjJTahxhq",
        "outputId": "49eb4826-f5b6-423a-be50-4b8d293662df"
      },
      "source": [
        "X_test.shape"
      ],
      "execution_count": 30,
      "outputs": [
        {
          "output_type": "execute_result",
          "data": {
            "text/plain": [
              "(1407, 26)"
            ]
          },
          "metadata": {},
          "execution_count": 30
        }
      ]
    },
    {
      "cell_type": "code",
      "metadata": {
        "colab": {
          "base_uri": "https://localhost:8080/"
        },
        "id": "gGeysaDRd0wQ",
        "outputId": "f0dcbcf7-64bf-47d7-968a-ab06c3738055"
      },
      "source": [
        "import tensorflow as tf \n",
        "from tensorflow import keras\n",
        "\n",
        "model = keras.Sequential([\n",
        "                          \n",
        "                          keras.layers.Dense(20,input_shape=(26,),activation ='relu'),\n",
        "                          # keras.layers.Dense(15,activation ='relu'),\n",
        "                          keras.layers.Dense(1,activation = 'sigmoid'),\n",
        "\n",
        "])\n",
        "\n",
        "model.compile(\n",
        "    optimizer = 'adam',\n",
        "    loss = 'binary_crossentropy',\n",
        "    metrics=['accuracy']\n",
        ")\n",
        "\n",
        "model.fit(X_train,y_train,epochs = 100)"
      ],
      "execution_count": 32,
      "outputs": [
        {
          "output_type": "stream",
          "name": "stdout",
          "text": [
            "Epoch 1/100\n",
            "176/176 [==============================] - 1s 3ms/step - loss: 0.6273 - accuracy: 0.6437\n",
            "Epoch 2/100\n",
            "176/176 [==============================] - 1s 3ms/step - loss: 0.4631 - accuracy: 0.7838\n",
            "Epoch 3/100\n",
            "176/176 [==============================] - 1s 3ms/step - loss: 0.4342 - accuracy: 0.7940\n",
            "Epoch 4/100\n",
            "176/176 [==============================] - 1s 3ms/step - loss: 0.4249 - accuracy: 0.7982\n",
            "Epoch 5/100\n",
            "176/176 [==============================] - 1s 3ms/step - loss: 0.4193 - accuracy: 0.8016\n",
            "Epoch 6/100\n",
            "176/176 [==============================] - 1s 3ms/step - loss: 0.4156 - accuracy: 0.8020\n",
            "Epoch 7/100\n",
            "176/176 [==============================] - 1s 3ms/step - loss: 0.4136 - accuracy: 0.8030\n",
            "Epoch 8/100\n",
            "176/176 [==============================] - 1s 3ms/step - loss: 0.4110 - accuracy: 0.8062\n",
            "Epoch 9/100\n",
            "176/176 [==============================] - 1s 3ms/step - loss: 0.4099 - accuracy: 0.8073\n",
            "Epoch 10/100\n",
            "176/176 [==============================] - 1s 3ms/step - loss: 0.4086 - accuracy: 0.8069\n",
            "Epoch 11/100\n",
            "176/176 [==============================] - 1s 4ms/step - loss: 0.4072 - accuracy: 0.8068\n",
            "Epoch 12/100\n",
            "176/176 [==============================] - 1s 3ms/step - loss: 0.4069 - accuracy: 0.8080\n",
            "Epoch 13/100\n",
            "176/176 [==============================] - 1s 3ms/step - loss: 0.4049 - accuracy: 0.8091\n",
            "Epoch 14/100\n",
            "176/176 [==============================] - 1s 3ms/step - loss: 0.4041 - accuracy: 0.8089\n",
            "Epoch 15/100\n",
            "176/176 [==============================] - 1s 3ms/step - loss: 0.4038 - accuracy: 0.8068\n",
            "Epoch 16/100\n",
            "176/176 [==============================] - 1s 3ms/step - loss: 0.4029 - accuracy: 0.8103\n",
            "Epoch 17/100\n",
            "176/176 [==============================] - 1s 3ms/step - loss: 0.4022 - accuracy: 0.8107\n",
            "Epoch 18/100\n",
            "176/176 [==============================] - 1s 3ms/step - loss: 0.4015 - accuracy: 0.8121\n",
            "Epoch 19/100\n",
            "176/176 [==============================] - 1s 4ms/step - loss: 0.4011 - accuracy: 0.8123\n",
            "Epoch 20/100\n",
            "176/176 [==============================] - 1s 3ms/step - loss: 0.4002 - accuracy: 0.8117\n",
            "Epoch 21/100\n",
            "176/176 [==============================] - 1s 3ms/step - loss: 0.3996 - accuracy: 0.8116\n",
            "Epoch 22/100\n",
            "176/176 [==============================] - 1s 4ms/step - loss: 0.3986 - accuracy: 0.8140\n",
            "Epoch 23/100\n",
            "176/176 [==============================] - 1s 3ms/step - loss: 0.3979 - accuracy: 0.8140\n",
            "Epoch 24/100\n",
            "176/176 [==============================] - 1s 3ms/step - loss: 0.3975 - accuracy: 0.8160\n",
            "Epoch 25/100\n",
            "176/176 [==============================] - 1s 4ms/step - loss: 0.3972 - accuracy: 0.8126\n",
            "Epoch 26/100\n",
            "176/176 [==============================] - 1s 4ms/step - loss: 0.3963 - accuracy: 0.8124\n",
            "Epoch 27/100\n",
            "176/176 [==============================] - 1s 3ms/step - loss: 0.3954 - accuracy: 0.8135\n",
            "Epoch 28/100\n",
            "176/176 [==============================] - 1s 3ms/step - loss: 0.3951 - accuracy: 0.8155\n",
            "Epoch 29/100\n",
            "176/176 [==============================] - 1s 3ms/step - loss: 0.3946 - accuracy: 0.8142\n",
            "Epoch 30/100\n",
            "176/176 [==============================] - 1s 3ms/step - loss: 0.3939 - accuracy: 0.8133\n",
            "Epoch 31/100\n",
            "176/176 [==============================] - 1s 3ms/step - loss: 0.3938 - accuracy: 0.8140\n",
            "Epoch 32/100\n",
            "176/176 [==============================] - 1s 3ms/step - loss: 0.3935 - accuracy: 0.8149\n",
            "Epoch 33/100\n",
            "176/176 [==============================] - 1s 4ms/step - loss: 0.3929 - accuracy: 0.8156\n",
            "Epoch 34/100\n",
            "176/176 [==============================] - 1s 4ms/step - loss: 0.3915 - accuracy: 0.8148\n",
            "Epoch 35/100\n",
            "176/176 [==============================] - 1s 4ms/step - loss: 0.3915 - accuracy: 0.8158\n",
            "Epoch 36/100\n",
            "176/176 [==============================] - 1s 3ms/step - loss: 0.3913 - accuracy: 0.8172\n",
            "Epoch 37/100\n",
            "176/176 [==============================] - 1s 4ms/step - loss: 0.3911 - accuracy: 0.8178\n",
            "Epoch 38/100\n",
            "176/176 [==============================] - 1s 3ms/step - loss: 0.3904 - accuracy: 0.8178\n",
            "Epoch 39/100\n",
            "176/176 [==============================] - 1s 4ms/step - loss: 0.3899 - accuracy: 0.8133\n",
            "Epoch 40/100\n",
            "176/176 [==============================] - 1s 3ms/step - loss: 0.3899 - accuracy: 0.8180\n",
            "Epoch 41/100\n",
            "176/176 [==============================] - 1s 4ms/step - loss: 0.3894 - accuracy: 0.8183\n",
            "Epoch 42/100\n",
            "176/176 [==============================] - 1s 4ms/step - loss: 0.3897 - accuracy: 0.8199\n",
            "Epoch 43/100\n",
            "176/176 [==============================] - 1s 4ms/step - loss: 0.3887 - accuracy: 0.8199\n",
            "Epoch 44/100\n",
            "176/176 [==============================] - 1s 3ms/step - loss: 0.3883 - accuracy: 0.8192\n",
            "Epoch 45/100\n",
            "176/176 [==============================] - 1s 4ms/step - loss: 0.3885 - accuracy: 0.8178\n",
            "Epoch 46/100\n",
            "176/176 [==============================] - 1s 3ms/step - loss: 0.3879 - accuracy: 0.8210\n",
            "Epoch 47/100\n",
            "176/176 [==============================] - 1s 4ms/step - loss: 0.3876 - accuracy: 0.8178\n",
            "Epoch 48/100\n",
            "176/176 [==============================] - 1s 4ms/step - loss: 0.3873 - accuracy: 0.8183\n",
            "Epoch 49/100\n",
            "176/176 [==============================] - 1s 3ms/step - loss: 0.3866 - accuracy: 0.8190\n",
            "Epoch 50/100\n",
            "176/176 [==============================] - 1s 4ms/step - loss: 0.3864 - accuracy: 0.8201\n",
            "Epoch 51/100\n",
            "176/176 [==============================] - 1s 4ms/step - loss: 0.3860 - accuracy: 0.8206\n",
            "Epoch 52/100\n",
            "176/176 [==============================] - 1s 3ms/step - loss: 0.3858 - accuracy: 0.8174\n",
            "Epoch 53/100\n",
            "176/176 [==============================] - 1s 4ms/step - loss: 0.3851 - accuracy: 0.8178\n",
            "Epoch 54/100\n",
            "176/176 [==============================] - 1s 4ms/step - loss: 0.3847 - accuracy: 0.8215\n",
            "Epoch 55/100\n",
            "176/176 [==============================] - 1s 4ms/step - loss: 0.3847 - accuracy: 0.8201\n",
            "Epoch 56/100\n",
            "176/176 [==============================] - 1s 4ms/step - loss: 0.3850 - accuracy: 0.8206\n",
            "Epoch 57/100\n",
            "176/176 [==============================] - 1s 4ms/step - loss: 0.3838 - accuracy: 0.8196\n",
            "Epoch 58/100\n",
            "176/176 [==============================] - 1s 4ms/step - loss: 0.3840 - accuracy: 0.8215\n",
            "Epoch 59/100\n",
            "176/176 [==============================] - 1s 4ms/step - loss: 0.3838 - accuracy: 0.8203\n",
            "Epoch 60/100\n",
            "176/176 [==============================] - 1s 4ms/step - loss: 0.3837 - accuracy: 0.8212\n",
            "Epoch 61/100\n",
            "176/176 [==============================] - 1s 4ms/step - loss: 0.3831 - accuracy: 0.8220\n",
            "Epoch 62/100\n",
            "176/176 [==============================] - 1s 3ms/step - loss: 0.3833 - accuracy: 0.8212\n",
            "Epoch 63/100\n",
            "176/176 [==============================] - 1s 3ms/step - loss: 0.3834 - accuracy: 0.8190\n",
            "Epoch 64/100\n",
            "176/176 [==============================] - 1s 4ms/step - loss: 0.3828 - accuracy: 0.8213\n",
            "Epoch 65/100\n",
            "176/176 [==============================] - 1s 3ms/step - loss: 0.3823 - accuracy: 0.8210\n",
            "Epoch 66/100\n",
            "176/176 [==============================] - 1s 4ms/step - loss: 0.3822 - accuracy: 0.8220\n",
            "Epoch 67/100\n",
            "176/176 [==============================] - 1s 4ms/step - loss: 0.3818 - accuracy: 0.8235\n",
            "Epoch 68/100\n",
            "176/176 [==============================] - 1s 3ms/step - loss: 0.3810 - accuracy: 0.8222\n",
            "Epoch 69/100\n",
            "176/176 [==============================] - 1s 4ms/step - loss: 0.3808 - accuracy: 0.8206\n",
            "Epoch 70/100\n",
            "176/176 [==============================] - 1s 4ms/step - loss: 0.3813 - accuracy: 0.8210\n",
            "Epoch 71/100\n",
            "176/176 [==============================] - 1s 4ms/step - loss: 0.3810 - accuracy: 0.8224\n",
            "Epoch 72/100\n",
            "176/176 [==============================] - 1s 4ms/step - loss: 0.3807 - accuracy: 0.8229\n",
            "Epoch 73/100\n",
            "176/176 [==============================] - 1s 3ms/step - loss: 0.3810 - accuracy: 0.8192\n",
            "Epoch 74/100\n",
            "176/176 [==============================] - 1s 3ms/step - loss: 0.3813 - accuracy: 0.8196\n",
            "Epoch 75/100\n",
            "176/176 [==============================] - 1s 4ms/step - loss: 0.3802 - accuracy: 0.8220\n",
            "Epoch 76/100\n",
            "176/176 [==============================] - 1s 3ms/step - loss: 0.3801 - accuracy: 0.8222\n",
            "Epoch 77/100\n",
            "176/176 [==============================] - 1s 3ms/step - loss: 0.3798 - accuracy: 0.8222\n",
            "Epoch 78/100\n",
            "176/176 [==============================] - 1s 4ms/step - loss: 0.3792 - accuracy: 0.8263\n",
            "Epoch 79/100\n",
            "176/176 [==============================] - 1s 3ms/step - loss: 0.3797 - accuracy: 0.8220\n",
            "Epoch 80/100\n",
            "176/176 [==============================] - 1s 4ms/step - loss: 0.3793 - accuracy: 0.8226\n",
            "Epoch 81/100\n",
            "176/176 [==============================] - 1s 4ms/step - loss: 0.3794 - accuracy: 0.8226\n",
            "Epoch 82/100\n",
            "176/176 [==============================] - 1s 4ms/step - loss: 0.3786 - accuracy: 0.8222\n",
            "Epoch 83/100\n",
            "176/176 [==============================] - 1s 4ms/step - loss: 0.3792 - accuracy: 0.8238\n",
            "Epoch 84/100\n",
            "176/176 [==============================] - 1s 4ms/step - loss: 0.3785 - accuracy: 0.8210\n",
            "Epoch 85/100\n",
            "176/176 [==============================] - 1s 4ms/step - loss: 0.3790 - accuracy: 0.8236\n",
            "Epoch 86/100\n",
            "176/176 [==============================] - 1s 4ms/step - loss: 0.3779 - accuracy: 0.8181\n",
            "Epoch 87/100\n",
            "176/176 [==============================] - 1s 3ms/step - loss: 0.3773 - accuracy: 0.8260\n",
            "Epoch 88/100\n",
            "176/176 [==============================] - 1s 4ms/step - loss: 0.3773 - accuracy: 0.8226\n",
            "Epoch 89/100\n",
            "176/176 [==============================] - 1s 4ms/step - loss: 0.3778 - accuracy: 0.8204\n",
            "Epoch 90/100\n",
            "176/176 [==============================] - 1s 4ms/step - loss: 0.3777 - accuracy: 0.8229\n",
            "Epoch 91/100\n",
            "176/176 [==============================] - 1s 4ms/step - loss: 0.3767 - accuracy: 0.8224\n",
            "Epoch 92/100\n",
            "176/176 [==============================] - 1s 3ms/step - loss: 0.3765 - accuracy: 0.8235\n",
            "Epoch 93/100\n",
            "176/176 [==============================] - 1s 4ms/step - loss: 0.3768 - accuracy: 0.8244\n",
            "Epoch 94/100\n",
            "176/176 [==============================] - 1s 3ms/step - loss: 0.3770 - accuracy: 0.8254\n",
            "Epoch 95/100\n",
            "176/176 [==============================] - 1s 3ms/step - loss: 0.3765 - accuracy: 0.8245\n",
            "Epoch 96/100\n",
            "176/176 [==============================] - 1s 3ms/step - loss: 0.3771 - accuracy: 0.8238\n",
            "Epoch 97/100\n",
            "176/176 [==============================] - 1s 4ms/step - loss: 0.3765 - accuracy: 0.8242\n",
            "Epoch 98/100\n",
            "176/176 [==============================] - 1s 4ms/step - loss: 0.3764 - accuracy: 0.8245\n",
            "Epoch 99/100\n",
            "176/176 [==============================] - 1s 4ms/step - loss: 0.3763 - accuracy: 0.8229\n",
            "Epoch 100/100\n",
            "176/176 [==============================] - 1s 4ms/step - loss: 0.3752 - accuracy: 0.8240\n"
          ]
        },
        {
          "output_type": "execute_result",
          "data": {
            "text/plain": [
              "<keras.callbacks.History at 0x7fc817b05250>"
            ]
          },
          "metadata": {},
          "execution_count": 32
        }
      ]
    },
    {
      "cell_type": "code",
      "metadata": {
        "colab": {
          "base_uri": "https://localhost:8080/"
        },
        "id": "aoZjnkHDhfnz",
        "outputId": "511411ed-1474-4df4-dcc4-38339726fe9d"
      },
      "source": [
        "model.evaluate(X_test,y_test)"
      ],
      "execution_count": 33,
      "outputs": [
        {
          "output_type": "stream",
          "name": "stdout",
          "text": [
            "44/44 [==============================] - 0s 3ms/step - loss: 0.4567 - accuracy: 0.7768\n"
          ]
        },
        {
          "output_type": "execute_result",
          "data": {
            "text/plain": [
              "[0.4567314386367798, 0.7768301367759705]"
            ]
          },
          "metadata": {},
          "execution_count": 33
        }
      ]
    },
    {
      "cell_type": "code",
      "metadata": {
        "colab": {
          "base_uri": "https://localhost:8080/"
        },
        "id": "68Puzqg8jxGo",
        "outputId": "e6526d46-d1a2-4870-88ff-d4014092c009"
      },
      "source": [
        "y_test.shape"
      ],
      "execution_count": 35,
      "outputs": [
        {
          "output_type": "execute_result",
          "data": {
            "text/plain": [
              "(1407,)"
            ]
          },
          "metadata": {},
          "execution_count": 35
        }
      ]
    },
    {
      "cell_type": "code",
      "metadata": {
        "colab": {
          "base_uri": "https://localhost:8080/"
        },
        "id": "4GtcxVxVjYXb",
        "outputId": "c96c1f54-dd11-4003-a979-0ed1a417ba81"
      },
      "source": [
        "yp = model.predict(X_test)\n",
        "yp[:5]"
      ],
      "execution_count": 36,
      "outputs": [
        {
          "output_type": "execute_result",
          "data": {
            "text/plain": [
              "array([[0.25600427],\n",
              "       [0.5180452 ],\n",
              "       [0.01150073],\n",
              "       [0.8284118 ],\n",
              "       [0.5177406 ]], dtype=float32)"
            ]
          },
          "metadata": {},
          "execution_count": 36
        }
      ]
    },
    {
      "cell_type": "code",
      "metadata": {
        "id": "UgHo4IiWj3yh"
      },
      "source": [
        "y_pred = []\n",
        "for i in yp:\n",
        "  if i > 0.5:\n",
        "    y_pred.append(1)\n",
        "  else:\n",
        "    y_pred.append(0)  "
      ],
      "execution_count": 37,
      "outputs": []
    },
    {
      "cell_type": "code",
      "metadata": {
        "id": "1b3TwfkOkZzS"
      },
      "source": [
        "y_pred"
      ],
      "execution_count": null,
      "outputs": []
    },
    {
      "cell_type": "code",
      "metadata": {
        "colab": {
          "base_uri": "https://localhost:8080/"
        },
        "id": "roYOXynGkaxV",
        "outputId": "19803bdc-696c-4860-a202-9f1b7d3ed63f"
      },
      "source": [
        "from sklearn.metrics import confusion_matrix,classification_report\n",
        "print(classification_report(y_test,y_pred))"
      ],
      "execution_count": 39,
      "outputs": [
        {
          "output_type": "stream",
          "name": "stdout",
          "text": [
            "              precision    recall  f1-score   support\n",
            "\n",
            "           0       0.81      0.90      0.85       999\n",
            "           1       0.66      0.48      0.55       408\n",
            "\n",
            "    accuracy                           0.78      1407\n",
            "   macro avg       0.73      0.69      0.70      1407\n",
            "weighted avg       0.76      0.78      0.77      1407\n",
            "\n"
          ]
        }
      ]
    },
    {
      "cell_type": "code",
      "metadata": {
        "colab": {
          "base_uri": "https://localhost:8080/",
          "height": 459
        },
        "id": "5MkB5GAfkxge",
        "outputId": "78c93c86-552b-4e80-bad0-b10481f8464b"
      },
      "source": [
        "import seaborn as sns\n",
        "cm = tf.math.confusion_matrix(labels=y_test,predictions=y_pred)\n",
        "\n",
        "plt.figure(figsize=(7,7))\n",
        "sns.heatmap(cm,annot=True,fmt='d')\n",
        "plt.xlabel('Predicted')\n",
        "plt.ylabel('Truth')"
      ],
      "execution_count": 41,
      "outputs": [
        {
          "output_type": "execute_result",
          "data": {
            "text/plain": [
              "Text(42.0, 0.5, 'Truth')"
            ]
          },
          "metadata": {},
          "execution_count": 41
        },
        {
          "output_type": "display_data",
          "data": {
            "image/png": "[encoded data removed]",
            "text/plain": [
              "<Figure size 504x504 with 2 Axes>"
            ]
          },
          "metadata": {
            "needs_background": "light"
          }
        }
      ]
    },
    {
      "cell_type": "code",
      "metadata": {
        "id": "rr17bhVylZTD"
      },
      "source": [
        ""
      ],
      "execution_count": null,
      "outputs": []
    }
  ]
}